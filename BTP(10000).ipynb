{
  "nbformat": 4,
  "nbformat_minor": 0,
  "metadata": {
    "colab": {
      "name": "BTP(10000).ipynb",
      "provenance": []
    },
    "kernelspec": {
      "name": "python3",
      "display_name": "Python 3"
    },
    "language_info": {
      "name": "python"
    }
  },
  "cells": [
    {
      "cell_type": "code",
      "metadata": {
        "colab": {
          "base_uri": "https://localhost:8080/"
        },
        "id": "tSBzPMJgGN54",
        "outputId": "cfaa463f-808b-4a71-c24e-d794cf517556"
      },
      "source": [
        "!pip install pennylane\n",
        "import pennylane as qml\n",
        "from pennylane import numpy as np\n",
        "from pennylane.templates import RandomLayers\n",
        "import tensorflow as tf\n",
        "from tensorflow import keras\n",
        "import matplotlib.pyplot as plt"
      ],
      "execution_count": 15,
      "outputs": [
        {
          "output_type": "stream",
          "text": [
            "Requirement already satisfied: pennylane in /usr/local/lib/python3.7/dist-packages (0.14.1)\n",
            "Requirement already satisfied: autograd in /usr/local/lib/python3.7/dist-packages (from pennylane) (1.3)\n",
            "Requirement already satisfied: toml in /usr/local/lib/python3.7/dist-packages (from pennylane) (0.10.2)\n",
            "Requirement already satisfied: appdirs in /usr/local/lib/python3.7/dist-packages (from pennylane) (1.4.4)\n",
            "Requirement already satisfied: scipy in /usr/local/lib/python3.7/dist-packages (from pennylane) (1.4.1)\n",
            "Requirement already satisfied: numpy in /usr/local/lib/python3.7/dist-packages (from pennylane) (1.19.5)\n",
            "Requirement already satisfied: semantic-version==2.6 in /usr/local/lib/python3.7/dist-packages (from pennylane) (2.6.0)\n",
            "Requirement already satisfied: networkx in /usr/local/lib/python3.7/dist-packages (from pennylane) (2.5.1)\n",
            "Requirement already satisfied: future>=0.15.2 in /usr/local/lib/python3.7/dist-packages (from autograd->pennylane) (0.16.0)\n",
            "Requirement already satisfied: decorator<5,>=4.3 in /usr/local/lib/python3.7/dist-packages (from networkx->pennylane) (4.4.2)\n"
          ],
          "name": "stdout"
        }
      ]
    },
    {
      "cell_type": "code",
      "metadata": {
        "id": "Ft0s7KUAId-k"
      },
      "source": [
        "n_epochs = 20   # Number of optimization epochs\n",
        "n_layers = 1    # Number of random layers\n",
        "n_train = 10000    # Size of the train dataset\n",
        "n_test = 1000     # Size of the test dataset\n",
        "\n",
        "SAVE_PATH = \"quanvolution/\" # Data saving folder\n",
        "PREPROCESS = True           # If False, skip quantum processing and load data from SAVE_PATH\n",
        "np.random.seed(0)           # Seed for NumPy random number generator\n",
        "tf.random.set_seed(0)       # Seed for TensorFlow random number generator"
      ],
      "execution_count": 23,
      "outputs": []
    },
    {
      "cell_type": "code",
      "metadata": {
        "colab": {
          "base_uri": "https://localhost:8080/"
        },
        "id": "5iwGvkY6ZAux",
        "outputId": "db4c312b-a5fc-4ce5-d275-d959ca03d341"
      },
      "source": [
        "from google.colab import drive\n",
        "drive.mount('/content/drive',force_remount=True)"
      ],
      "execution_count": 3,
      "outputs": [
        {
          "output_type": "stream",
          "text": [
            "Mounted at /content/drive\n"
          ],
          "name": "stdout"
        }
      ]
    },
    {
      "cell_type": "code",
      "metadata": {
        "colab": {
          "base_uri": "https://localhost:8080/"
        },
        "id": "gAjU7hQ5ZPhw",
        "outputId": "010c25d6-b450-48de-9e00-7ce86c108e21"
      },
      "source": [
        "%cd \"drive/MyDrive/Colab Notebooks/BTP\""
      ],
      "execution_count": 4,
      "outputs": [
        {
          "output_type": "stream",
          "text": [
            "/content/drive/MyDrive/Colab Notebooks/BTP\n"
          ],
          "name": "stdout"
        }
      ]
    },
    {
      "cell_type": "code",
      "metadata": {
        "colab": {
          "base_uri": "https://localhost:8080/"
        },
        "id": "R2LaTOoIIg3K",
        "outputId": "8ffb8f50-7de7-4890-c2e6-923ec1751a58"
      },
      "source": [
        "import pandas as pd\n",
        "\n",
        "train = pd.read_csv(\"emnist-balanced-train.csv\",delimiter = ',')\n",
        "test = pd.read_csv(\"emnist-balanced-test.csv\", delimiter = ',')\n",
        "mapp = pd.read_csv(\"emnist-balanced-mapping.txt\", delimiter = ' ', \\\n",
        "                   index_col=0, header=None, squeeze=True)\n",
        "print(\"Train: %s, Test: %s, Map: %s\" %(train.shape, test.shape, mapp.shape))\n"
      ],
      "execution_count": 5,
      "outputs": [
        {
          "output_type": "stream",
          "text": [
            "Train: (112799, 785), Test: (18799, 785), Map: (47,)\n"
          ],
          "name": "stdout"
        }
      ]
    },
    {
      "cell_type": "code",
      "metadata": {
        "id": "OcnjBcISJR_U"
      },
      "source": [
        "train_x = train.iloc[:,1:]\n",
        "train_y = train.iloc[:,0]\n",
        "del train\n",
        "\n",
        "test_x = test.iloc[:,1:]\n",
        "test_y = test.iloc[:,0]\n",
        "del test\n"
      ],
      "execution_count": 6,
      "outputs": []
    },
    {
      "cell_type": "code",
      "metadata": {
        "colab": {
          "base_uri": "https://localhost:8080/"
        },
        "id": "yIuvR4VIZsok",
        "outputId": "e01bdd8b-85f7-4155-cdbd-451e0c449d4d"
      },
      "source": [
        "print(train_x.shape,train_y.shape,test_x.shape,test_y.shape)"
      ],
      "execution_count": 7,
      "outputs": [
        {
          "output_type": "stream",
          "text": [
            "(112799, 784) (112799,) (18799, 784) (18799,)\n"
          ],
          "name": "stdout"
        }
      ]
    },
    {
      "cell_type": "code",
      "metadata": {
        "id": "hsXANKImciZc"
      },
      "source": [
        "HEIGHT = 28\n",
        "WIDTH = 28\n",
        "\n",
        "def reshape(image):\n",
        "    image = image.reshape([HEIGHT, WIDTH])\n",
        "    return image\n"
      ],
      "execution_count": 8,
      "outputs": []
    },
    {
      "cell_type": "code",
      "metadata": {
        "colab": {
          "base_uri": "https://localhost:8080/"
        },
        "id": "ECFH5sIUc2zX",
        "outputId": "1fd171bd-fa90-46da-9003-03671e664e5a"
      },
      "source": [
        "train_x = np.asarray(train_x)\n",
        "train_x = np.apply_along_axis(reshape, 1, train_x)\n",
        "print (\"train_x:\",train_x.shape)\n",
        "\n",
        "test_x = np.asarray(test_x)\n",
        "test_x = np.apply_along_axis(reshape, 1, test_x)\n",
        "print (\"test_x:\",test_x.shape)\n"
      ],
      "execution_count": 9,
      "outputs": [
        {
          "output_type": "stream",
          "text": [
            "train_x: (112799, 28, 28)\n",
            "test_x: (18799, 28, 28)\n"
          ],
          "name": "stdout"
        }
      ]
    },
    {
      "cell_type": "code",
      "metadata": {
        "id": "uwQilhB-Zu8k"
      },
      "source": [
        "train_images = train_x[:n_train]\n",
        "train_labels = train_y[:n_train]\n",
        "test_images = test_x[:n_test]\n",
        "test_labels = test_y[:n_test]\n",
        "\n",
        "# Normalize pixel values within 0 and 1\n",
        "train_images_temp = train_images / 255\n",
        "test_images_temp = test_images / 255\n",
        "\n",
        "# Add extra dimension for convolution channels\n",
        "train_images = np.array(train_images_temp[..., tf.newaxis], requires_grad=False)\n",
        "test_images = np.array(test_images_temp[..., tf.newaxis], requires_grad=False)"
      ],
      "execution_count": 10,
      "outputs": []
    },
    {
      "cell_type": "code",
      "metadata": {
        "colab": {
          "base_uri": "https://localhost:8080/"
        },
        "id": "EEHynzEIaDB2",
        "outputId": "b58e2d03-21e9-4341-92b3-5879ec57acf3"
      },
      "source": [
        "train_images.shape"
      ],
      "execution_count": 11,
      "outputs": [
        {
          "output_type": "execute_result",
          "data": {
            "text/plain": [
              "(10000, 28, 28, 1)"
            ]
          },
          "metadata": {
            "tags": []
          },
          "execution_count": 11
        }
      ]
    },
    {
      "cell_type": "code",
      "metadata": {
        "id": "H59UZYI2dCWc"
      },
      "source": [
        "dev = qml.device(\"default.qubit\", wires=4)\n",
        "# Random circuit parameters\n",
        "rand_params = np.random.uniform(high=2 * np.pi, size=(n_layers, 4))\n",
        "\n",
        "@qml.qnode(dev)\n",
        "def circuit(phi):\n",
        "    # Encoding of 4 classical input values\n",
        "    for j in range(4):\n",
        "        qml.RY(np.pi * phi[j], wires=j)\n",
        "\n",
        "    # Random quantum circuit\n",
        "    RandomLayers(rand_params, wires=list(range(4)))\n",
        "\n",
        "    # Measurement producing 4 classical output values\n",
        "    return [qml.expval(qml.PauliZ(j)) for j in range(4)]\n"
      ],
      "execution_count": 12,
      "outputs": []
    },
    {
      "cell_type": "code",
      "metadata": {
        "id": "JqFYTs-Ddiki"
      },
      "source": [
        "def quanv(image):\n",
        "    \"\"\"Convolves the input image with many applications of the same quantum circuit.\"\"\"\n",
        "    out = np.zeros((14, 14, 4))\n",
        "\n",
        "    # Loop over the coordinates of the top-left pixel of 2X2 squares\n",
        "    for j in range(0, 28, 2):\n",
        "        for k in range(0, 28, 2):\n",
        "            # Process a squared 2x2 region of the image with a quantum circuit\n",
        "            q_results = circuit(\n",
        "                [\n",
        "                    image[j, k, 0],\n",
        "                    image[j, k + 1, 0],\n",
        "                    image[j + 1, k, 0],\n",
        "                    image[j + 1, k + 1, 0]\n",
        "                ]\n",
        "            )\n",
        "            # Assign expectation values to different channels of the output pixel (j/2, k/2)\n",
        "            for c in range(4):\n",
        "                out[j // 2, k // 2, c] = q_results[c]\n",
        "    return out\n"
      ],
      "execution_count": 13,
      "outputs": []
    },
    {
      "cell_type": "code",
      "metadata": {
        "colab": {
          "base_uri": "https://localhost:8080/"
        },
        "id": "LUZv345-djBL",
        "outputId": "7c9ed3da-673a-4690-f6fe-07e5de987080"
      },
      "source": [
        "if PREPROCESS == True:\n",
        "    q_train_images = []\n",
        "    print(\"Quantum pre-processing of train images:\")\n",
        "    for idx, img in enumerate(train_images):        \n",
        "        q_train_images.append(quanv(img))\n",
        "    q_train_images = np.asarray(q_train_images)\n",
        "\n",
        "    q_test_images = []\n",
        "    print(\"\\nQuantum pre-processing of test images:\")\n",
        "    for idx, img in enumerate(test_images):        \n",
        "        q_test_images.append(quanv(img))\n",
        "    q_test_images = np.asarray(q_test_images)\n",
        "\n",
        "    # Save pre-processed images\n",
        "    np.save(SAVE_PATH + \"q_train_images_set10k.npy\", q_train_images)\n",
        "    np.save(SAVE_PATH + \"q_test_images_set10k.npy\", q_test_images)\n",
        "\n",
        "\n",
        "# Load pre-processed images\n",
        "q_train_images = np.load(SAVE_PATH + \"q_train_images_set10k.npy\")\n",
        "q_test_images = np.load(SAVE_PATH + \"q_test_images_set10k.npy\")\n"
      ],
      "execution_count": 16,
      "outputs": [
        {
          "output_type": "stream",
          "text": [
            "Quantum pre-processing of train images:\n",
            "\n",
            "Quantum pre-processing of test images:\n"
          ],
          "name": "stdout"
        }
      ]
    },
    {
      "cell_type": "code",
      "metadata": {
        "colab": {
          "base_uri": "https://localhost:8080/"
        },
        "id": "0Zxepg7OCr5O",
        "outputId": "5b193ef3-1632-4567-ec67-3b732d4114c7"
      },
      "source": [
        "q_train_images.shape\n"
      ],
      "execution_count": 17,
      "outputs": [
        {
          "output_type": "execute_result",
          "data": {
            "text/plain": [
              "(10000, 14, 14, 4)"
            ]
          },
          "metadata": {
            "tags": []
          },
          "execution_count": 17
        }
      ]
    },
    {
      "cell_type": "code",
      "metadata": {
        "id": "L0LzG2rXdmIw",
        "colab": {
          "base_uri": "https://localhost:8080/",
          "height": 729
        },
        "outputId": "c290233c-69ff-4f5b-c95f-7f10e5d59bbf"
      },
      "source": [
        "n_samples = 4\n",
        "n_channels = 4\n",
        "fig, axes = plt.subplots(1 + n_channels, n_samples, figsize=(10, 10))\n",
        "for k in range(n_samples):\n",
        "    axes[0, 0].set_ylabel(\"Input\")\n",
        "    if k != 0:\n",
        "        axes[0, k].yaxis.set_visible(False)\n",
        "    axes[0, k].imshow(train_images[k, :, :, 0], cmap=\"gray\")\n",
        "\n",
        "    # Plot all output channels\n",
        "    for c in range(n_channels):\n",
        "        axes[c + 1, 0].set_ylabel(\"Output [ch. {}]\".format(c))\n",
        "        if k != 0:\n",
        "            axes[c, k].yaxis.set_visible(False)\n",
        "        axes[c + 1, k].imshow(q_train_images[k, :, :, c], cmap=\"gray\")\n",
        "\n",
        "plt.tight_layout()\n",
        "plt.show()"
      ],
      "execution_count": 18,
      "outputs": [
        {
          "output_type": "display_data",
          "data": {
            "image/png": "[encoded data removed]",
            "text/plain": [
              "<Figure size 720x720 with 20 Axes>"
            ]
          },
          "metadata": {
            "tags": [],
            "needs_background": "light"
          }
        }
      ]
    },
    {
      "cell_type": "code",
      "metadata": {
        "id": "d6YS251qdvPA"
      },
      "source": [
        "def MyModel1():\n",
        "    \"\"\"Initializes and returns a custom Keras model\n",
        "    which is ready to be trained.\"\"\"\n",
        "    model = keras.models.Sequential([\n",
        "        keras.layers.Conv2D(filters=128, kernel_size=(5,5), padding = 'same', activation='relu',\\\n",
        "                 input_shape=(14, 14, 4)), \n",
        "        keras.layers.MaxPooling2D(pool_size=(2,2), strides=(2,2)), \n",
        "        keras.layers.Conv2D(filters=64, kernel_size=(3,3) , padding = 'same', activation='relu'),\n",
        "        keras.layers.MaxPooling2D(pool_size=(2,2)),                                                              \n",
        "        keras.layers.Flatten(),\n",
        "        keras.layers.Dropout(0.2),\n",
        "        keras.layers.Dense(47, activation=\"softmax\")\n",
        "    ])\n",
        "\n",
        "    model.compile(\n",
        "        optimizer='adam',\n",
        "        loss=\"sparse_categorical_crossentropy\",\n",
        "        metrics=[\"accuracy\"],\n",
        "    )\n",
        "    return model\n"
      ],
      "execution_count": 24,
      "outputs": []
    },
    {
      "cell_type": "code",
      "metadata": {
        "id": "6s67NmHidzEb",
        "colab": {
          "base_uri": "https://localhost:8080/"
        },
        "outputId": "d48a41f2-7581-4e1c-d197-05bb98754b60"
      },
      "source": [
        "q_model = MyModel1()\n",
        "\n",
        "q_history = q_model.fit(\n",
        "    q_train_images,\n",
        "    train_labels,\n",
        "    validation_data=(q_test_images, test_labels),\n",
        "    batch_size=100,\n",
        "    epochs=n_epochs,\n",
        "    verbose=2,\n",
        ")\n"
      ],
      "execution_count": 25,
      "outputs": [
        {
          "output_type": "stream",
          "text": [
            "Epoch 1/20\n",
            "100/100 - 13s - loss: 2.5305 - accuracy: 0.3288 - val_loss: 1.2541 - val_accuracy: 0.6430\n",
            "Epoch 2/20\n",
            "100/100 - 13s - loss: 1.1638 - accuracy: 0.6532 - val_loss: 0.8657 - val_accuracy: 0.7560\n",
            "Epoch 3/20\n",
            "100/100 - 13s - loss: 0.8579 - accuracy: 0.7332 - val_loss: 0.7297 - val_accuracy: 0.7820\n",
            "Epoch 4/20\n",
            "100/100 - 13s - loss: 0.6999 - accuracy: 0.7754 - val_loss: 0.6326 - val_accuracy: 0.8100\n",
            "Epoch 5/20\n",
            "100/100 - 13s - loss: 0.6138 - accuracy: 0.8043 - val_loss: 0.6008 - val_accuracy: 0.8140\n",
            "Epoch 6/20\n",
            "100/100 - 13s - loss: 0.5551 - accuracy: 0.8155 - val_loss: 0.5614 - val_accuracy: 0.8240\n",
            "Epoch 7/20\n",
            "100/100 - 13s - loss: 0.5029 - accuracy: 0.8310 - val_loss: 0.5554 - val_accuracy: 0.8280\n",
            "Epoch 8/20\n",
            "100/100 - 13s - loss: 0.4608 - accuracy: 0.8404 - val_loss: 0.5449 - val_accuracy: 0.8270\n",
            "Epoch 9/20\n",
            "100/100 - 13s - loss: 0.4321 - accuracy: 0.8507 - val_loss: 0.5263 - val_accuracy: 0.8350\n",
            "Epoch 10/20\n",
            "100/100 - 13s - loss: 0.3888 - accuracy: 0.8645 - val_loss: 0.5092 - val_accuracy: 0.8310\n",
            "Epoch 11/20\n",
            "100/100 - 13s - loss: 0.3629 - accuracy: 0.8737 - val_loss: 0.5020 - val_accuracy: 0.8400\n",
            "Epoch 12/20\n",
            "100/100 - 13s - loss: 0.3353 - accuracy: 0.8836 - val_loss: 0.4884 - val_accuracy: 0.8560\n",
            "Epoch 13/20\n",
            "100/100 - 13s - loss: 0.3201 - accuracy: 0.8838 - val_loss: 0.5126 - val_accuracy: 0.8450\n",
            "Epoch 14/20\n",
            "100/100 - 13s - loss: 0.3025 - accuracy: 0.8906 - val_loss: 0.4930 - val_accuracy: 0.8460\n",
            "Epoch 15/20\n",
            "100/100 - 13s - loss: 0.2825 - accuracy: 0.8973 - val_loss: 0.5308 - val_accuracy: 0.8390\n",
            "Epoch 16/20\n",
            "100/100 - 13s - loss: 0.2698 - accuracy: 0.9016 - val_loss: 0.4948 - val_accuracy: 0.8530\n",
            "Epoch 17/20\n",
            "100/100 - 13s - loss: 0.2467 - accuracy: 0.9079 - val_loss: 0.5057 - val_accuracy: 0.8430\n",
            "Epoch 18/20\n",
            "100/100 - 13s - loss: 0.2284 - accuracy: 0.9140 - val_loss: 0.5163 - val_accuracy: 0.8440\n",
            "Epoch 19/20\n",
            "100/100 - 13s - loss: 0.2228 - accuracy: 0.9177 - val_loss: 0.4919 - val_accuracy: 0.8540\n",
            "Epoch 20/20\n",
            "100/100 - 13s - loss: 0.2084 - accuracy: 0.9225 - val_loss: 0.5098 - val_accuracy: 0.8500\n"
          ],
          "name": "stdout"
        }
      ]
    },
    {
      "cell_type": "code",
      "metadata": {
        "id": "9n5Sd4sSut8_"
      },
      "source": [
        "def MyModel2():\n",
        "    \"\"\"Initializes and returns a custom Keras model\n",
        "    which is ready to be trained.\"\"\"\n",
        "    model = keras.models.Sequential([\n",
        "        keras.layers.Conv2D(filters=128, kernel_size=(5,5), padding = 'same', activation='relu',\\\n",
        "                 input_shape=(28, 28, 1)), \n",
        "        keras.layers.MaxPooling2D(pool_size=(2,2), strides=(2,2)), \n",
        "        keras.layers.Conv2D(filters=64, kernel_size=(3,3) , padding = 'same', activation='relu'),\n",
        "        keras.layers.MaxPooling2D(pool_size=(2,2)),                                                              \n",
        "        keras.layers.Flatten(),\n",
        "        keras.layers.Dropout(0.2),\n",
        "        keras.layers.Dense(47, activation=\"softmax\")\n",
        "    ])\n",
        "\n",
        "    model.compile(\n",
        "        optimizer='adam',\n",
        "        loss=\"sparse_categorical_crossentropy\",\n",
        "        metrics=[\"accuracy\"],\n",
        "    )\n",
        "    return model\n"
      ],
      "execution_count": 26,
      "outputs": []
    },
    {
      "cell_type": "code",
      "metadata": {
        "id": "ISu_zfeMesON",
        "colab": {
          "base_uri": "https://localhost:8080/"
        },
        "outputId": "7a6e11bb-952d-4d51-9686-5164206d22bd"
      },
      "source": [
        "c_model = MyModel2()\n",
        "\n",
        "c_history = c_model.fit(\n",
        "    train_images,\n",
        "    train_labels,\n",
        "    validation_data=(test_images, test_labels),\n",
        "    batch_size=100,\n",
        "    epochs=n_epochs,\n",
        "    verbose=2,\n",
        ")"
      ],
      "execution_count": 27,
      "outputs": [
        {
          "output_type": "stream",
          "text": [
            "Epoch 1/20\n",
            "100/100 - 36s - loss: 1.8909 - accuracy: 0.4829 - val_loss: 1.0125 - val_accuracy: 0.6990\n",
            "Epoch 2/20\n",
            "100/100 - 35s - loss: 0.8366 - accuracy: 0.7409 - val_loss: 0.7385 - val_accuracy: 0.8020\n",
            "Epoch 3/20\n",
            "100/100 - 35s - loss: 0.6420 - accuracy: 0.7952 - val_loss: 0.6761 - val_accuracy: 0.8010\n",
            "Epoch 4/20\n",
            "100/100 - 35s - loss: 0.5400 - accuracy: 0.8208 - val_loss: 0.6316 - val_accuracy: 0.8190\n",
            "Epoch 5/20\n",
            "100/100 - 35s - loss: 0.4712 - accuracy: 0.8412 - val_loss: 0.6331 - val_accuracy: 0.8060\n",
            "Epoch 6/20\n",
            "100/100 - 35s - loss: 0.4178 - accuracy: 0.8564 - val_loss: 0.6432 - val_accuracy: 0.8220\n",
            "Epoch 7/20\n",
            "100/100 - 35s - loss: 0.3748 - accuracy: 0.8725 - val_loss: 0.6493 - val_accuracy: 0.8180\n",
            "Epoch 8/20\n",
            "100/100 - 35s - loss: 0.3423 - accuracy: 0.8780 - val_loss: 0.6418 - val_accuracy: 0.8150\n",
            "Epoch 9/20\n",
            "100/100 - 35s - loss: 0.3066 - accuracy: 0.8899 - val_loss: 0.6226 - val_accuracy: 0.8340\n",
            "Epoch 10/20\n",
            "100/100 - 35s - loss: 0.2718 - accuracy: 0.9004 - val_loss: 0.6256 - val_accuracy: 0.8410\n",
            "Epoch 11/20\n",
            "100/100 - 35s - loss: 0.2588 - accuracy: 0.9053 - val_loss: 0.6552 - val_accuracy: 0.8260\n",
            "Epoch 12/20\n",
            "100/100 - 35s - loss: 0.2353 - accuracy: 0.9139 - val_loss: 0.6663 - val_accuracy: 0.8330\n",
            "Epoch 13/20\n",
            "100/100 - 35s - loss: 0.2224 - accuracy: 0.9163 - val_loss: 0.6249 - val_accuracy: 0.8390\n",
            "Epoch 14/20\n",
            "100/100 - 35s - loss: 0.2008 - accuracy: 0.9237 - val_loss: 0.6486 - val_accuracy: 0.8420\n",
            "Epoch 15/20\n",
            "100/100 - 35s - loss: 0.1924 - accuracy: 0.9271 - val_loss: 0.6389 - val_accuracy: 0.8370\n",
            "Epoch 16/20\n",
            "100/100 - 35s - loss: 0.1748 - accuracy: 0.9351 - val_loss: 0.6783 - val_accuracy: 0.8300\n",
            "Epoch 17/20\n",
            "100/100 - 35s - loss: 0.1634 - accuracy: 0.9393 - val_loss: 0.6964 - val_accuracy: 0.8460\n",
            "Epoch 18/20\n",
            "100/100 - 35s - loss: 0.1497 - accuracy: 0.9415 - val_loss: 0.7379 - val_accuracy: 0.8350\n",
            "Epoch 19/20\n",
            "100/100 - 35s - loss: 0.1521 - accuracy: 0.9426 - val_loss: 0.6936 - val_accuracy: 0.8430\n",
            "Epoch 20/20\n",
            "100/100 - 35s - loss: 0.1429 - accuracy: 0.9444 - val_loss: 0.7427 - val_accuracy: 0.8340\n"
          ],
          "name": "stdout"
        }
      ]
    },
    {
      "cell_type": "code",
      "metadata": {
        "id": "qC5fTg6rex1Z",
        "colab": {
          "base_uri": "https://localhost:8080/",
          "height": 657
        },
        "outputId": "3b4fc5a5-228a-4d6c-baff-57888ac34c1e"
      },
      "source": [
        "import matplotlib.pyplot as plt\n",
        "\n",
        "plt.style.use(\"seaborn\")\n",
        "fig, (ax1, ax2) = plt.subplots(2, 1, figsize=(6, 9))\n",
        "\n",
        "ax1.plot(q_history.history[\"val_accuracy\"], \"-ob\", label=\"With quantum layer\")\n",
        "ax1.plot(c_history.history[\"val_accuracy\"], \"-og\", label=\"Without quantum layer\")\n",
        "ax1.set_ylabel(\"Accuracy\")\n",
        "ax1.set_xlabel(\"Epoch\")\n",
        "ax1.legend()\n",
        "\n",
        "ax2.plot(q_history.history[\"val_loss\"], \"-ob\", label=\"With quantum layer\")\n",
        "ax2.plot(c_history.history[\"val_loss\"], \"-og\", label=\"Without quantum layer\")\n",
        "ax2.set_ylabel(\"Loss\")\n",
        "ax2.set_xlabel(\"Epoch\")\n",
        "ax2.legend()\n",
        "plt.tight_layout()\n",
        "plt.show()"
      ],
      "execution_count": 28,
      "outputs": [
        {
          "output_type": "display_data",
          "data": {
            "image/png": "[encoded data removed]",
            "text/plain": [
              "<Figure size 432x648 with 2 Axes>"
            ]
          },
          "metadata": {
            "tags": []
          }
        }
      ]
    },
    {
      "cell_type": "code",
      "metadata": {
        "colab": {
          "base_uri": "https://localhost:8080/"
        },
        "id": "1G3f-EW2McDk",
        "outputId": "0d37d569-f784-479d-da46-5e02575ed169"
      },
      "source": [
        "q_model.evaluate(q_test_images, test_labels)"
      ],
      "execution_count": 29,
      "outputs": [
        {
          "output_type": "stream",
          "text": [
            "32/32 [==============================] - 1s 13ms/step - loss: 0.5098 - accuracy: 0.8500\n"
          ],
          "name": "stdout"
        },
        {
          "output_type": "execute_result",
          "data": {
            "text/plain": [
              "[0.50983065366745, 0.8500000238418579]"
            ]
          },
          "metadata": {
            "tags": []
          },
          "execution_count": 29
        }
      ]
    },
    {
      "cell_type": "code",
      "metadata": {
        "id": "sV0sBOXS3GRu",
        "outputId": "d9687a1d-4193-4df1-fc21-76103c02fb97",
        "colab": {
          "base_uri": "https://localhost:8080/"
        }
      },
      "source": [
        "c_model.evaluate(test_images, test_labels)"
      ],
      "execution_count": 30,
      "outputs": [
        {
          "output_type": "stream",
          "text": [
            "32/32 [==============================] - 1s 31ms/step - loss: 0.7427 - accuracy: 0.8340\n"
          ],
          "name": "stdout"
        },
        {
          "output_type": "execute_result",
          "data": {
            "text/plain": [
              "[0.7426559329032898, 0.8339999914169312]"
            ]
          },
          "metadata": {
            "tags": []
          },
          "execution_count": 30
        }
      ]
    },
    {
      "cell_type": "code",
      "metadata": {
        "id": "blz2JRse3IWh"
      },
      "source": [
        ""
      ],
      "execution_count": null,
      "outputs": []
    }
  ]
}